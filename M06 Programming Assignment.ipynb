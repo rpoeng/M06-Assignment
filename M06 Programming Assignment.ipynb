{
 "cells": [
  {
   "cell_type": "code",
   "execution_count": null,
   "id": "f2e9e341",
   "metadata": {},
   "outputs": [],
   "source": [
    "#Robert Poeng\n",
    "#M06 Programming Assignment - Concurrency in Python\n",
    "#12/03/2023\n",
    "#Q 13.1, 13.2, 13.3, 15.1"
   ]
  },
  {
   "cell_type": "code",
   "execution_count": null,
   "id": "1b7749d3",
   "metadata": {},
   "outputs": [],
   "source": [
    "# Section 13.1 Write the current date as a string to the text file today.txt"
   ]
  },
  {
   "cell_type": "code",
   "execution_count": 3,
   "id": "92810bf4",
   "metadata": {},
   "outputs": [],
   "source": [
    "from datetime import date, datetime\n",
    "\n",
    "now = date.today() #gets today's time\n",
    "\n",
    "now_str = now.isoformat() #formats string to return date\n",
    "with open('today.txt', 'wt') as output: #outputs to today.txt the date\n",
    "    print(now_str, file=output)"
   ]
  },
  {
   "cell_type": "code",
   "execution_count": null,
   "id": "970159b3",
   "metadata": {},
   "outputs": [],
   "source": []
  },
  {
   "cell_type": "code",
   "execution_count": null,
   "id": "a7ee4ad4",
   "metadata": {},
   "outputs": [],
   "source": []
  },
  {
   "cell_type": "code",
   "execution_count": null,
   "id": "1ea30ecb",
   "metadata": {},
   "outputs": [],
   "source": [
    "#13.2 Read the text file today.txt into the string \"today_string\""
   ]
  },
  {
   "cell_type": "code",
   "execution_count": 5,
   "id": "f0e5a162",
   "metadata": {},
   "outputs": [
    {
     "name": "stdout",
     "output_type": "stream",
     "text": [
      "2023-12-03\n",
      "\n"
     ]
    }
   ],
   "source": [
    "with open('today.txt', 'rt') as input: \n",
    "    today_string = input.read() \n",
    "    \n",
    "print(today_string)"
   ]
  },
  {
   "cell_type": "code",
   "execution_count": null,
   "id": "7db75438",
   "metadata": {},
   "outputs": [],
   "source": [
    "#13.3 Parse the date from \"today_string\""
   ]
  },
  {
   "cell_type": "code",
   "execution_count": 12,
   "id": "fd8d149a",
   "metadata": {},
   "outputs": [
    {
     "data": {
      "text/plain": [
       "datetime.datetime(2023, 12, 3, 0, 0)"
      ]
     },
     "execution_count": 12,
     "metadata": {},
     "output_type": "execute_result"
    }
   ],
   "source": [
    "from datetime import date, datetime\n",
    "fmt = '%Y-%m-%d\\n' #formats %Y - year, %m - Month, %d - day of month\n",
    "datetime.strptime(today_string, fmt)"
   ]
  },
  {
   "cell_type": "code",
   "execution_count": null,
   "id": "4cb399cd",
   "metadata": {},
   "outputs": [],
   "source": []
  },
  {
   "cell_type": "code",
   "execution_count": null,
   "id": "39f6f1d2",
   "metadata": {},
   "outputs": [],
   "source": []
  },
  {
   "cell_type": "code",
   "execution_count": null,
   "id": "e7bc1ffe",
   "metadata": {},
   "outputs": [],
   "source": [
    "#15.1 Use \"multiprocessing\" to create three seperate process. Make each one wait a random number of seconds between \n",
    "# zero and one, print the current time, and then exit."
   ]
  },
  {
   "cell_type": "code",
   "execution_count": 18,
   "id": "1807f0fd",
   "metadata": {},
   "outputs": [],
   "source": [
    "import multiprocessing\n",
    "\n",
    "def now(seconds):  #Function to sleep after a certain amount of time.\n",
    "    from datetime import datetime\n",
    "    from time import sleep\n",
    "    sleep(seconds)\n",
    "    print('waiting', seconds, 'seconds, time is', datetime.utcnow())\n",
    "    \n",
    "    \n",
    "if __name__=='__main__':\n",
    "    import random\n",
    "    for n in range(3):#Range for three seperate processes.\n",
    "        seconds = random.random()\n",
    "        proc = multiprocessing.Process(target=now, args=(seconds,)) #starts new process and calls \"now\" function\n",
    "        proc.start()"
   ]
  },
  {
   "cell_type": "code",
   "execution_count": null,
   "id": "0bdcfacf",
   "metadata": {},
   "outputs": [],
   "source": []
  }
 ],
 "metadata": {
  "kernelspec": {
   "display_name": "Python 3 (ipykernel)",
   "language": "python",
   "name": "python3"
  },
  "language_info": {
   "codemirror_mode": {
    "name": "ipython",
    "version": 3
   },
   "file_extension": ".py",
   "mimetype": "text/x-python",
   "name": "python",
   "nbconvert_exporter": "python",
   "pygments_lexer": "ipython3",
   "version": "3.11.5"
  }
 },
 "nbformat": 4,
 "nbformat_minor": 5
}
